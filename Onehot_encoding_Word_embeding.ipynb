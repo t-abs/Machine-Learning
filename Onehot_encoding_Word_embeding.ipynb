{
  "nbformat": 4,
  "nbformat_minor": 0,
  "metadata": {
    "colab": {
      "provenance": [],
      "authorship_tag": "ABX9TyO4+mUtYCmneEpDgpt3i28N",
      "include_colab_link": true
    },
    "kernelspec": {
      "name": "python3",
      "display_name": "Python 3"
    },
    "language_info": {
      "name": "python"
    }
  },
  "cells": [
    {
      "cell_type": "markdown",
      "metadata": {
        "id": "view-in-github",
        "colab_type": "text"
      },
      "source": [
        "<a href=\"https://colab.research.google.com/github/t-abs/Machine-Learning/blob/main/Onehot_encoding_Word_embeding.ipynb\" target=\"_parent\"><img src=\"https://colab.research.google.com/assets/colab-badge.svg\" alt=\"Open In Colab\"/></a>"
      ]
    },
    {
      "cell_type": "code",
      "execution_count": 1,
      "metadata": {
        "id": "X-bOsHVtvGm8"
      },
      "outputs": [],
      "source": [
        "from keras.preprocessing.text import one_hot"
      ]
    },
    {
      "cell_type": "code",
      "source": [
        "sent=['The glass of milk','the glass of juice','your videos are great','I am good girl','I am a good developer']"
      ],
      "metadata": {
        "id": "Fv3N-nQIv-Wf"
      },
      "execution_count": 5,
      "outputs": []
    },
    {
      "cell_type": "code",
      "source": [
        "sent"
      ],
      "metadata": {
        "colab": {
          "base_uri": "https://localhost:8080/"
        },
        "id": "Tz7jrUOsrroa",
        "outputId": "7a12be08-5618-4886-d0e3-8014335f67f9"
      },
      "execution_count": 6,
      "outputs": [
        {
          "output_type": "execute_result",
          "data": {
            "text/plain": [
              "['The glass of milk',\n",
              " 'the glass of juice',\n",
              " 'your videos are great',\n",
              " 'I am good girl',\n",
              " 'I am a good developer']"
            ]
          },
          "metadata": {},
          "execution_count": 6
        }
      ]
    },
    {
      "cell_type": "markdown",
      "source": [
        "Vocabulary size"
      ],
      "metadata": {
        "id": "0fp2dOFNsKKl"
      }
    },
    {
      "cell_type": "code",
      "source": [
        "voc_size=10000"
      ],
      "metadata": {
        "id": "dD_DcOaFrvgh"
      },
      "execution_count": 7,
      "outputs": []
    },
    {
      "cell_type": "code",
      "source": [
        "one_hotrep=[one_hot(words,voc_size)for words in sent]\n",
        "print(one_hotrep)"
      ],
      "metadata": {
        "colab": {
          "base_uri": "https://localhost:8080/"
        },
        "id": "zy2hNrRPr0U_",
        "outputId": "257af1dc-73af-494c-edf7-16615a85a202"
      },
      "execution_count": 8,
      "outputs": [
        {
          "output_type": "stream",
          "name": "stdout",
          "text": [
            "[[1553, 7080, 2772, 8238], [1553, 7080, 2772, 2596], [6555, 1441, 6376, 7717], [2353, 1759, 9523, 5705], [2353, 1759, 1039, 9523, 7469]]\n"
          ]
        }
      ]
    },
    {
      "cell_type": "code",
      "source": [
        "!pip install tensorflow"
      ],
      "metadata": {
        "colab": {
          "base_uri": "https://localhost:8080/"
        },
        "id": "38zjOgo6v5Bg",
        "outputId": "b3874e47-1c4e-460f-ca4d-6f0eac1712b8"
      },
      "execution_count": 9,
      "outputs": [
        {
          "output_type": "stream",
          "name": "stdout",
          "text": [
            "Requirement already satisfied: tensorflow in /usr/local/lib/python3.10/dist-packages (2.15.0)\n",
            "Requirement already satisfied: absl-py>=1.0.0 in /usr/local/lib/python3.10/dist-packages (from tensorflow) (1.4.0)\n",
            "Requirement already satisfied: astunparse>=1.6.0 in /usr/local/lib/python3.10/dist-packages (from tensorflow) (1.6.3)\n",
            "Requirement already satisfied: flatbuffers>=23.5.26 in /usr/local/lib/python3.10/dist-packages (from tensorflow) (24.3.25)\n",
            "Requirement already satisfied: gast!=0.5.0,!=0.5.1,!=0.5.2,>=0.2.1 in /usr/local/lib/python3.10/dist-packages (from tensorflow) (0.5.4)\n",
            "Requirement already satisfied: google-pasta>=0.1.1 in /usr/local/lib/python3.10/dist-packages (from tensorflow) (0.2.0)\n",
            "Requirement already satisfied: h5py>=2.9.0 in /usr/local/lib/python3.10/dist-packages (from tensorflow) (3.9.0)\n",
            "Requirement already satisfied: libclang>=13.0.0 in /usr/local/lib/python3.10/dist-packages (from tensorflow) (18.1.1)\n",
            "Requirement already satisfied: ml-dtypes~=0.2.0 in /usr/local/lib/python3.10/dist-packages (from tensorflow) (0.2.0)\n",
            "Requirement already satisfied: numpy<2.0.0,>=1.23.5 in /usr/local/lib/python3.10/dist-packages (from tensorflow) (1.25.2)\n",
            "Requirement already satisfied: opt-einsum>=2.3.2 in /usr/local/lib/python3.10/dist-packages (from tensorflow) (3.3.0)\n",
            "Requirement already satisfied: packaging in /usr/local/lib/python3.10/dist-packages (from tensorflow) (24.0)\n",
            "Requirement already satisfied: protobuf!=4.21.0,!=4.21.1,!=4.21.2,!=4.21.3,!=4.21.4,!=4.21.5,<5.0.0dev,>=3.20.3 in /usr/local/lib/python3.10/dist-packages (from tensorflow) (3.20.3)\n",
            "Requirement already satisfied: setuptools in /usr/local/lib/python3.10/dist-packages (from tensorflow) (67.7.2)\n",
            "Requirement already satisfied: six>=1.12.0 in /usr/local/lib/python3.10/dist-packages (from tensorflow) (1.16.0)\n",
            "Requirement already satisfied: termcolor>=1.1.0 in /usr/local/lib/python3.10/dist-packages (from tensorflow) (2.4.0)\n",
            "Requirement already satisfied: typing-extensions>=3.6.6 in /usr/local/lib/python3.10/dist-packages (from tensorflow) (4.11.0)\n",
            "Requirement already satisfied: wrapt<1.15,>=1.11.0 in /usr/local/lib/python3.10/dist-packages (from tensorflow) (1.14.1)\n",
            "Requirement already satisfied: tensorflow-io-gcs-filesystem>=0.23.1 in /usr/local/lib/python3.10/dist-packages (from tensorflow) (0.36.0)\n",
            "Requirement already satisfied: grpcio<2.0,>=1.24.3 in /usr/local/lib/python3.10/dist-packages (from tensorflow) (1.62.2)\n",
            "Requirement already satisfied: tensorboard<2.16,>=2.15 in /usr/local/lib/python3.10/dist-packages (from tensorflow) (2.15.2)\n",
            "Requirement already satisfied: tensorflow-estimator<2.16,>=2.15.0 in /usr/local/lib/python3.10/dist-packages (from tensorflow) (2.15.0)\n",
            "Requirement already satisfied: keras<2.16,>=2.15.0 in /usr/local/lib/python3.10/dist-packages (from tensorflow) (2.15.0)\n",
            "Requirement already satisfied: wheel<1.0,>=0.23.0 in /usr/local/lib/python3.10/dist-packages (from astunparse>=1.6.0->tensorflow) (0.43.0)\n",
            "Requirement already satisfied: google-auth<3,>=1.6.3 in /usr/local/lib/python3.10/dist-packages (from tensorboard<2.16,>=2.15->tensorflow) (2.27.0)\n",
            "Requirement already satisfied: google-auth-oauthlib<2,>=0.5 in /usr/local/lib/python3.10/dist-packages (from tensorboard<2.16,>=2.15->tensorflow) (1.2.0)\n",
            "Requirement already satisfied: markdown>=2.6.8 in /usr/local/lib/python3.10/dist-packages (from tensorboard<2.16,>=2.15->tensorflow) (3.6)\n",
            "Requirement already satisfied: requests<3,>=2.21.0 in /usr/local/lib/python3.10/dist-packages (from tensorboard<2.16,>=2.15->tensorflow) (2.31.0)\n",
            "Requirement already satisfied: tensorboard-data-server<0.8.0,>=0.7.0 in /usr/local/lib/python3.10/dist-packages (from tensorboard<2.16,>=2.15->tensorflow) (0.7.2)\n",
            "Requirement already satisfied: werkzeug>=1.0.1 in /usr/local/lib/python3.10/dist-packages (from tensorboard<2.16,>=2.15->tensorflow) (3.0.2)\n",
            "Requirement already satisfied: cachetools<6.0,>=2.0.0 in /usr/local/lib/python3.10/dist-packages (from google-auth<3,>=1.6.3->tensorboard<2.16,>=2.15->tensorflow) (5.3.3)\n",
            "Requirement already satisfied: pyasn1-modules>=0.2.1 in /usr/local/lib/python3.10/dist-packages (from google-auth<3,>=1.6.3->tensorboard<2.16,>=2.15->tensorflow) (0.4.0)\n",
            "Requirement already satisfied: rsa<5,>=3.1.4 in /usr/local/lib/python3.10/dist-packages (from google-auth<3,>=1.6.3->tensorboard<2.16,>=2.15->tensorflow) (4.9)\n",
            "Requirement already satisfied: requests-oauthlib>=0.7.0 in /usr/local/lib/python3.10/dist-packages (from google-auth-oauthlib<2,>=0.5->tensorboard<2.16,>=2.15->tensorflow) (1.3.1)\n",
            "Requirement already satisfied: charset-normalizer<4,>=2 in /usr/local/lib/python3.10/dist-packages (from requests<3,>=2.21.0->tensorboard<2.16,>=2.15->tensorflow) (3.3.2)\n",
            "Requirement already satisfied: idna<4,>=2.5 in /usr/local/lib/python3.10/dist-packages (from requests<3,>=2.21.0->tensorboard<2.16,>=2.15->tensorflow) (3.7)\n",
            "Requirement already satisfied: urllib3<3,>=1.21.1 in /usr/local/lib/python3.10/dist-packages (from requests<3,>=2.21.0->tensorboard<2.16,>=2.15->tensorflow) (2.0.7)\n",
            "Requirement already satisfied: certifi>=2017.4.17 in /usr/local/lib/python3.10/dist-packages (from requests<3,>=2.21.0->tensorboard<2.16,>=2.15->tensorflow) (2024.2.2)\n",
            "Requirement already satisfied: MarkupSafe>=2.1.1 in /usr/local/lib/python3.10/dist-packages (from werkzeug>=1.0.1->tensorboard<2.16,>=2.15->tensorflow) (2.1.5)\n",
            "Requirement already satisfied: pyasn1<0.7.0,>=0.4.6 in /usr/local/lib/python3.10/dist-packages (from pyasn1-modules>=0.2.1->google-auth<3,>=1.6.3->tensorboard<2.16,>=2.15->tensorflow) (0.6.0)\n",
            "Requirement already satisfied: oauthlib>=3.0.0 in /usr/local/lib/python3.10/dist-packages (from requests-oauthlib>=0.7.0->google-auth-oauthlib<2,>=0.5->tensorboard<2.16,>=2.15->tensorflow) (3.2.2)\n"
          ]
        }
      ]
    },
    {
      "cell_type": "code",
      "source": [
        "from tensorflow.keras.layers import Embedding\n",
        "from tensorflow.keras.preprocessing.sequence import pad_sequences\n",
        "\n",
        "from tensorflow.keras.models import Sequential\n"
      ],
      "metadata": {
        "id": "Rldcpet4vvGf"
      },
      "execution_count": 10,
      "outputs": []
    },
    {
      "cell_type": "code",
      "source": [
        "import numpy as np"
      ],
      "metadata": {
        "id": "Qx7Ur42owQNL"
      },
      "execution_count": 11,
      "outputs": []
    },
    {
      "cell_type": "code",
      "source": [
        "sent_length=8\n",
        "embeded_docs=pad_sequences(one_hotrep,padding='pre',maxlen=sent_length)\n",
        "print(embeded_docs)"
      ],
      "metadata": {
        "colab": {
          "base_uri": "https://localhost:8080/"
        },
        "id": "thpVhz5LwUC2",
        "outputId": "6afc76f9-ddf9-45b1-a504-0075066c973c"
      },
      "execution_count": 13,
      "outputs": [
        {
          "output_type": "stream",
          "name": "stdout",
          "text": [
            "[[   0    0    0    0 1553 7080 2772 8238]\n",
            " [   0    0    0    0 1553 7080 2772 2596]\n",
            " [   0    0    0    0 6555 1441 6376 7717]\n",
            " [   0    0    0    0 2353 1759 9523 5705]\n",
            " [   0    0    0 2353 1759 1039 9523 7469]]\n"
          ]
        }
      ]
    },
    {
      "cell_type": "code",
      "source": [
        "dim=15"
      ],
      "metadata": {
        "id": "vMm7uXaiw6a2"
      },
      "execution_count": 14,
      "outputs": []
    },
    {
      "cell_type": "code",
      "source": [
        "model=Sequential()\n",
        "model.add(Embedding(voc_size,10,input_length=sent_length))\n",
        "model.compile('adam','mse')"
      ],
      "metadata": {
        "id": "wY0SQ8gkw89o"
      },
      "execution_count": 15,
      "outputs": []
    },
    {
      "cell_type": "code",
      "source": [
        "model.summary()"
      ],
      "metadata": {
        "colab": {
          "base_uri": "https://localhost:8080/"
        },
        "id": "RM6mZ6oVxSVn",
        "outputId": "6d81fd3d-da9c-4a3e-9caa-58ffbecf9a38"
      },
      "execution_count": 16,
      "outputs": [
        {
          "output_type": "stream",
          "name": "stdout",
          "text": [
            "Model: \"sequential\"\n",
            "_________________________________________________________________\n",
            " Layer (type)                Output Shape              Param #   \n",
            "=================================================================\n",
            " embedding (Embedding)       (None, 8, 10)             100000    \n",
            "                                                                 \n",
            "=================================================================\n",
            "Total params: 100000 (390.62 KB)\n",
            "Trainable params: 100000 (390.62 KB)\n",
            "Non-trainable params: 0 (0.00 Byte)\n",
            "_________________________________________________________________\n"
          ]
        }
      ]
    },
    {
      "cell_type": "code",
      "source": [
        "print(model.predict(embeded_docs))"
      ],
      "metadata": {
        "colab": {
          "base_uri": "https://localhost:8080/"
        },
        "id": "aC2OSvGUxbnY",
        "outputId": "af582264-e907-47ad-c28a-af782bd00dd7"
      },
      "execution_count": 17,
      "outputs": [
        {
          "output_type": "stream",
          "name": "stdout",
          "text": [
            "1/1 [==============================] - 0s 121ms/step\n",
            "[[[-0.03296932 -0.04979329  0.01610681 -0.03664309  0.01639262\n",
            "   -0.01641617 -0.0368466   0.04517699  0.02224607 -0.01021619]\n",
            "  [-0.03296932 -0.04979329  0.01610681 -0.03664309  0.01639262\n",
            "   -0.01641617 -0.0368466   0.04517699  0.02224607 -0.01021619]\n",
            "  [-0.03296932 -0.04979329  0.01610681 -0.03664309  0.01639262\n",
            "   -0.01641617 -0.0368466   0.04517699  0.02224607 -0.01021619]\n",
            "  [-0.03296932 -0.04979329  0.01610681 -0.03664309  0.01639262\n",
            "   -0.01641617 -0.0368466   0.04517699  0.02224607 -0.01021619]\n",
            "  [ 0.02760997  0.0466596  -0.00169413 -0.04071571  0.02830282\n",
            "   -0.04651764  0.04362143  0.0482134   0.03335596  0.00416155]\n",
            "  [-0.0109803  -0.01369636  0.00600129 -0.04593991  0.02237571\n",
            "   -0.04301618  0.04466267  0.00953919  0.03080258 -0.00971171]\n",
            "  [ 0.03116227  0.02067817 -0.00213653  0.00773001 -0.0021866\n",
            "   -0.04657185  0.03423751  0.03254587  0.00628824  0.02035198]\n",
            "  [ 0.04435704  0.01990862 -0.00354696 -0.0004493   0.00275781\n",
            "   -0.04225155 -0.04433164 -0.04387049  0.03557957 -0.04280286]]\n",
            "\n",
            " [[-0.03296932 -0.04979329  0.01610681 -0.03664309  0.01639262\n",
            "   -0.01641617 -0.0368466   0.04517699  0.02224607 -0.01021619]\n",
            "  [-0.03296932 -0.04979329  0.01610681 -0.03664309  0.01639262\n",
            "   -0.01641617 -0.0368466   0.04517699  0.02224607 -0.01021619]\n",
            "  [-0.03296932 -0.04979329  0.01610681 -0.03664309  0.01639262\n",
            "   -0.01641617 -0.0368466   0.04517699  0.02224607 -0.01021619]\n",
            "  [-0.03296932 -0.04979329  0.01610681 -0.03664309  0.01639262\n",
            "   -0.01641617 -0.0368466   0.04517699  0.02224607 -0.01021619]\n",
            "  [ 0.02760997  0.0466596  -0.00169413 -0.04071571  0.02830282\n",
            "   -0.04651764  0.04362143  0.0482134   0.03335596  0.00416155]\n",
            "  [-0.0109803  -0.01369636  0.00600129 -0.04593991  0.02237571\n",
            "   -0.04301618  0.04466267  0.00953919  0.03080258 -0.00971171]\n",
            "  [ 0.03116227  0.02067817 -0.00213653  0.00773001 -0.0021866\n",
            "   -0.04657185  0.03423751  0.03254587  0.00628824  0.02035198]\n",
            "  [-0.00382113  0.00145964  0.02688206  0.03963735 -0.03733553\n",
            "   -0.02571707  0.00080066 -0.0207263  -0.03565694  0.04945029]]\n",
            "\n",
            " [[-0.03296932 -0.04979329  0.01610681 -0.03664309  0.01639262\n",
            "   -0.01641617 -0.0368466   0.04517699  0.02224607 -0.01021619]\n",
            "  [-0.03296932 -0.04979329  0.01610681 -0.03664309  0.01639262\n",
            "   -0.01641617 -0.0368466   0.04517699  0.02224607 -0.01021619]\n",
            "  [-0.03296932 -0.04979329  0.01610681 -0.03664309  0.01639262\n",
            "   -0.01641617 -0.0368466   0.04517699  0.02224607 -0.01021619]\n",
            "  [-0.03296932 -0.04979329  0.01610681 -0.03664309  0.01639262\n",
            "   -0.01641617 -0.0368466   0.04517699  0.02224607 -0.01021619]\n",
            "  [ 0.04881605 -0.04918481  0.04931618  0.03396145  0.01631815\n",
            "   -0.02484684 -0.00668861 -0.04430777  0.04507859 -0.04364618]\n",
            "  [ 0.02422616 -0.01512096 -0.04201523 -0.0108388   0.00295075\n",
            "   -0.00729652  0.04744858  0.02595729  0.01358273 -0.01185992]\n",
            "  [-0.00478697 -0.01631187  0.02882955  0.02277197 -0.00234733\n",
            "    0.02350137 -0.01628017  0.00157143 -0.00993624  0.03676188]\n",
            "  [-0.02614184 -0.03898791 -0.0025878  -0.04611242  0.02819575\n",
            "    0.01562715 -0.04091322 -0.02026365  0.00803424  0.04432789]]\n",
            "\n",
            " [[-0.03296932 -0.04979329  0.01610681 -0.03664309  0.01639262\n",
            "   -0.01641617 -0.0368466   0.04517699  0.02224607 -0.01021619]\n",
            "  [-0.03296932 -0.04979329  0.01610681 -0.03664309  0.01639262\n",
            "   -0.01641617 -0.0368466   0.04517699  0.02224607 -0.01021619]\n",
            "  [-0.03296932 -0.04979329  0.01610681 -0.03664309  0.01639262\n",
            "   -0.01641617 -0.0368466   0.04517699  0.02224607 -0.01021619]\n",
            "  [-0.03296932 -0.04979329  0.01610681 -0.03664309  0.01639262\n",
            "   -0.01641617 -0.0368466   0.04517699  0.02224607 -0.01021619]\n",
            "  [ 0.01312551 -0.04318869  0.0243043   0.02969711  0.00049556\n",
            "    0.02877383 -0.01184874 -0.036132    0.03645113 -0.04865956]\n",
            "  [-0.02811823  0.01113677  0.00227249 -0.01163046  0.00299734\n",
            "    0.03809914 -0.00611214 -0.04609155  0.00851818 -0.02732356]\n",
            "  [ 0.01185074  0.04331454 -0.03108007  0.0496897   0.01064797\n",
            "   -0.01824626  0.02785024 -0.00932981  0.00070209 -0.00871573]\n",
            "  [-0.03059415 -0.04656453 -0.0172452   0.02506911  0.04392679\n",
            "    0.02138529 -0.02012387  0.00030816  0.02600734  0.03459325]]\n",
            "\n",
            " [[-0.03296932 -0.04979329  0.01610681 -0.03664309  0.01639262\n",
            "   -0.01641617 -0.0368466   0.04517699  0.02224607 -0.01021619]\n",
            "  [-0.03296932 -0.04979329  0.01610681 -0.03664309  0.01639262\n",
            "   -0.01641617 -0.0368466   0.04517699  0.02224607 -0.01021619]\n",
            "  [-0.03296932 -0.04979329  0.01610681 -0.03664309  0.01639262\n",
            "   -0.01641617 -0.0368466   0.04517699  0.02224607 -0.01021619]\n",
            "  [ 0.01312551 -0.04318869  0.0243043   0.02969711  0.00049556\n",
            "    0.02877383 -0.01184874 -0.036132    0.03645113 -0.04865956]\n",
            "  [-0.02811823  0.01113677  0.00227249 -0.01163046  0.00299734\n",
            "    0.03809914 -0.00611214 -0.04609155  0.00851818 -0.02732356]\n",
            "  [ 0.01068991  0.02268502  0.02184406  0.02786769 -0.03678764\n",
            "    0.04860346 -0.02651121 -0.01276295  0.03064574  0.00643472]\n",
            "  [ 0.01185074  0.04331454 -0.03108007  0.0496897   0.01064797\n",
            "   -0.01824626  0.02785024 -0.00932981  0.00070209 -0.00871573]\n",
            "  [ 0.04871107  0.00959127  0.03006354 -0.00333901  0.01223373\n",
            "    0.02327922  0.03228049  0.02209116 -0.02704682  0.02117013]]]\n"
          ]
        }
      ]
    },
    {
      "cell_type": "code",
      "source": [
        "embeded_docs[0]"
      ],
      "metadata": {
        "colab": {
          "base_uri": "https://localhost:8080/"
        },
        "id": "fqAPZY-Uxh26",
        "outputId": "23621831-35bb-4790-9bff-1080c72d23b3"
      },
      "execution_count": 18,
      "outputs": [
        {
          "output_type": "execute_result",
          "data": {
            "text/plain": [
              "array([   0,    0,    0,    0, 1553, 7080, 2772, 8238], dtype=int32)"
            ]
          },
          "metadata": {},
          "execution_count": 18
        }
      ]
    }
  ]
}