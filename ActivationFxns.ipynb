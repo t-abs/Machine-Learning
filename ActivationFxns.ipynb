{
  "nbformat": 4,
  "nbformat_minor": 0,
  "metadata": {
    "colab": {
      "provenance": [],
      "authorship_tag": "ABX9TyOTspm0SaAd9oopcCSGeWyS",
      "include_colab_link": true
    },
    "kernelspec": {
      "name": "python3",
      "display_name": "Python 3"
    },
    "language_info": {
      "name": "python"
    }
  },
  "cells": [
    {
      "cell_type": "markdown",
      "metadata": {
        "id": "view-in-github",
        "colab_type": "text"
      },
      "source": [
        "<a href=\"https://colab.research.google.com/github/t-abs/Machine-Learning/blob/main/ActivationFxns.ipynb\" target=\"_parent\"><img src=\"https://colab.research.google.com/assets/colab-badge.svg\" alt=\"Open In Colab\"/></a>"
      ]
    },
    {
      "cell_type": "markdown",
      "source": [
        "Activation fxns type-Sigmoid,Relu,Tanh"
      ],
      "metadata": {
        "id": "GuTUJPojSyEk"
      }
    },
    {
      "cell_type": "code",
      "execution_count": 1,
      "metadata": {
        "id": "1qZ-QGO1SIzy"
      },
      "outputs": [],
      "source": [
        "import numpy as np"
      ]
    },
    {
      "cell_type": "code",
      "source": [
        "def sigmoid_function(x):\n",
        "    z = (1/(1 + np.exp(-x)))\n",
        "    return z\n"
      ],
      "metadata": {
        "id": "p3vgxc82TGhK"
      },
      "execution_count": 2,
      "outputs": []
    },
    {
      "cell_type": "code",
      "source": [
        "sigmoid_function(9)"
      ],
      "metadata": {
        "colab": {
          "base_uri": "https://localhost:8080/"
        },
        "id": "U0LUoYi7To1S",
        "outputId": "0a0cdbeb-286e-483b-9951-9f08e90f67b3"
      },
      "execution_count": 3,
      "outputs": [
        {
          "output_type": "execute_result",
          "data": {
            "text/plain": [
              "0.9998766054240137"
            ]
          },
          "metadata": {},
          "execution_count": 3
        }
      ]
    },
    {
      "cell_type": "code",
      "source": [
        "def tanh_function(x):\n",
        "    z = (2/(1 + np.exp(-2*x))) -1\n",
        "    return z\n"
      ],
      "metadata": {
        "id": "KtBMXOoFT3u5"
      },
      "execution_count": 4,
      "outputs": []
    },
    {
      "cell_type": "code",
      "source": [
        "tanh_function(6)"
      ],
      "metadata": {
        "colab": {
          "base_uri": "https://localhost:8080/"
        },
        "id": "59gCqAHGT_6S",
        "outputId": "d45937d9-9a8d-4191-a2df-de1cef0cd738"
      },
      "execution_count": 5,
      "outputs": [
        {
          "output_type": "execute_result",
          "data": {
            "text/plain": [
              "0.9999877116507956"
            ]
          },
          "metadata": {},
          "execution_count": 5
        }
      ]
    },
    {
      "cell_type": "code",
      "source": [
        "def relu_function(x):\n",
        "    if x<0:\n",
        "        return 0\n",
        "    else:\n",
        "        return x\n"
      ],
      "metadata": {
        "id": "kikw5EIYURtN"
      },
      "execution_count": 7,
      "outputs": []
    },
    {
      "cell_type": "code",
      "source": [
        "relu_function(7)"
      ],
      "metadata": {
        "colab": {
          "base_uri": "https://localhost:8080/"
        },
        "id": "TaxW50qCUw9U",
        "outputId": "8b64e1dd-b8f8-470c-f7d4-9877c70bb28b"
      },
      "execution_count": 8,
      "outputs": [
        {
          "output_type": "execute_result",
          "data": {
            "text/plain": [
              "7"
            ]
          },
          "metadata": {},
          "execution_count": 8
        }
      ]
    }
  ]
}