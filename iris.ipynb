{
  "nbformat": 4,
  "nbformat_minor": 0,
  "metadata": {
    "colab": {
      "provenance": [],
      "authorship_tag": "ABX9TyPQXoeJep7yvreAAMbCghNS",
      "include_colab_link": true
    },
    "kernelspec": {
      "name": "python3",
      "display_name": "Python 3"
    },
    "language_info": {
      "name": "python"
    }
  },
  "cells": [
    {
      "cell_type": "markdown",
      "metadata": {
        "id": "view-in-github",
        "colab_type": "text"
      },
      "source": [
        "<a href=\"https://colab.research.google.com/github/t-abs/Machine-Learning/blob/main/iris.ipynb\" target=\"_parent\"><img src=\"https://colab.research.google.com/assets/colab-badge.svg\" alt=\"Open In Colab\"/></a>"
      ]
    },
    {
      "cell_type": "code",
      "execution_count": null,
      "metadata": {
        "id": "6Q4Zd1P396nn"
      },
      "outputs": [],
      "source": [
        "import pandas as pd\n",
        "import numpy as np\n",
        "import pickle\n",
        "import streamlit as st\n",
        "from PIL import Image\n",
        "\n",
        "# loading in the model to predict on the data\n",
        "pickle_in = open('classifier.pkl', 'rb')\n",
        "classifier = pickle.load(pickle_in)\n",
        "\n",
        "def welcome():\n",
        "\treturn 'welcome all'\n",
        "\n",
        "# defining the function which will make the prediction using\n",
        "# the data which the user inputs\n",
        "def prediction(sepal_length, sepal_width, petal_length, petal_width):\n",
        "\n",
        "\tprediction = classifier.predict(\n",
        "\t\t[[sepal_length, sepal_width, petal_length, petal_width]])\n",
        "\tprint(prediction)\n",
        "\treturn prediction\n",
        "\n",
        "\n",
        "# this is the main function in which we define our webpage\n",
        "def main():\n",
        "\t# giving the webpage a title\n",
        "\tst.title(\"Iris Flower Prediction\")\n",
        "\n",
        "\t# here we define some of the front end elements of the web page like\n",
        "\t# the font and background color, the padding and the text to be displayed\n",
        "\thtml_temp = \"\"\"\n",
        "\t<div style =\"background-color:yellow;padding:13px\">\n",
        "\t<h1 style =\"color:black;text-align:center;\">Streamlit Iris Flower Classifier ML App </h1>\n",
        "\t</div>\n",
        "\t\"\"\"\n",
        "\n",
        "\t# this line allows us to display the front end aspects we have\n",
        "\t# defined in the above code\n",
        "\tst.markdown(html_temp, unsafe_allow_html = True)\n",
        "\n",
        "\t# the following lines create text boxes in which the user can enter\n",
        "\t# the data required to make the prediction\n",
        "\tsepal_length = st.text_input(\"Sepal Length\", \"Type Here\")\n",
        "\tsepal_width = st.text_input(\"Sepal Width\", \"Type Here\")\n",
        "\tpetal_length = st.text_input(\"Petal Length\", \"Type Here\")\n",
        "\tpetal_width = st.text_input(\"Petal Width\", \"Type Here\")\n",
        "\tresult =\"\"\n",
        "\n",
        "\t# the below line ensures that when the button called 'Predict' is clicked,\n",
        "\t# the prediction function defined above is called to make the prediction\n",
        "\t# and store it in the variable result\n",
        "\tif st.button(\"Predict\"):\n",
        "\t\tresult = prediction(sepal_length, sepal_width, petal_length, petal_width)\n",
        "\tst.success('The output is {}'.format(result))\n",
        "\n",
        "if __name__=='__main__':\n",
        "\tmain()\n"
      ]
    }
  ]
}